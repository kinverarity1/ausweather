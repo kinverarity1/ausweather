{
 "nbformat": 4,
 "nbformat_minor": 2,
 "metadata": {
  "language_info": {
   "name": "python",
   "codemirror_mode": {
    "name": "ipython",
    "version": 3
   },
   "version": "3.7.3-final"
  },
  "orig_nbformat": 2,
  "file_extension": ".py",
  "mimetype": "text/x-python",
  "name": "python",
  "npconvert_exporter": "python",
  "pygments_lexer": "ipython3",
  "version": 3,
  "kernelspec": {
   "name": "gw",
   "display_name": "gw"
  }
 },
 "cells": [
  {
   "cell_type": "code",
   "execution_count": 27,
   "metadata": {},
   "outputs": [],
   "source": [
    "import io\n",
    "import zipfile\n",
    "\n",
    "import requests\n",
    "import pandas as pd"
   ]
  },
  {
   "cell_type": "code",
   "execution_count": 11,
   "metadata": {},
   "outputs": [],
   "source": [
    "import logging\n",
    "logging.basicConfig(\n",
    "    level=logging.DEBUG,\n",
    "    style=\"{\",\n",
    "    format=\"{levelname}:{module}.{funcName}:{lineno}:{message}\"\n",
    ")"
   ]
  },
  {
   "cell_type": "code",
   "execution_count": 12,
   "metadata": {},
   "outputs": [],
   "source": [
    "logger = logging.getLogger()"
   ]
  },
  {
   "cell_type": "code",
   "execution_count": 14,
   "metadata": {
    "tags": [
     "outputPrepend",
     "outputPrepend",
     "outputPrepend"
    ]
   },
   "outputs": [
    {
     "output_type": "stream",
     "name": "stderr",
     "text": "DEBUG:pyplot.switch_backend:225:Loaded backend module://ipykernel.pylab.backend_inline version unknown.\nDEBUG:pyplot.switch_backend:225:Loaded backend module://ipykernel.pylab.backend_inline version unknown.\n"
    }
   ],
   "source": [
    "import ausweather.bom\n",
    "\n",
    "from ausweather.bom import resolve_ncc_obs_code, fetch_bom_c_values"
   ]
  },
  {
   "cell_type": "code",
   "execution_count": 15,
   "metadata": {},
   "outputs": [
    {
     "output_type": "stream",
     "name": "stderr",
     "text": "DEBUG:bom.fetch_bom_c_values:101:Using resolved ncc_obs_code 136\nDEBUG:connectionpool._new_conn:225:Starting new HTTP connection (1): www.bom.gov.au:80\nDEBUG:connectionpool._make_request:437:http://www.bom.gov.au:80 \"GET /jsp/ncc/cdio/weatherStationDirectory/d?p_display_type=ajaxStnListing&p_nccObsCode=136&p_stnNum=23000&p_radius=0 HTTP/1.1\" 200 813\n"
    }
   ],
   "source": [
    "df = ausweather.bom.fetch_bom_c_values(\"daily_rain\", 23000, radius_km=0)"
   ]
  },
  {
   "cell_type": "code",
   "execution_count": 16,
   "metadata": {},
   "outputs": [
    {
     "output_type": "execute_result",
     "data": {
      "text/plain": "    Km  Station                                    Name      Lat       Lon  \\\n0  0.0    23000  Adelaide (West Terrace / Ngayirdapira) -34.9257  138.5832   \n\n    Elev     First      Last  Years   %          c  \n0  29.32  1839 Jan  2020 Apr  142.9  79 -105818465  ",
      "text/html": "<div>\n<style scoped>\n    .dataframe tbody tr th:only-of-type {\n        vertical-align: middle;\n    }\n\n    .dataframe tbody tr th {\n        vertical-align: top;\n    }\n\n    .dataframe thead th {\n        text-align: right;\n    }\n</style>\n<table border=\"1\" class=\"dataframe\">\n  <thead>\n    <tr style=\"text-align: right;\">\n      <th></th>\n      <th>Km</th>\n      <th>Station</th>\n      <th>Name</th>\n      <th>Lat</th>\n      <th>Lon</th>\n      <th>Elev</th>\n      <th>First</th>\n      <th>Last</th>\n      <th>Years</th>\n      <th>%</th>\n      <th>c</th>\n    </tr>\n  </thead>\n  <tbody>\n    <tr>\n      <th>0</th>\n      <td>0.0</td>\n      <td>23000</td>\n      <td>Adelaide (West Terrace / Ngayirdapira)</td>\n      <td>-34.9257</td>\n      <td>138.5832</td>\n      <td>29.32</td>\n      <td>1839 Jan</td>\n      <td>2020 Apr</td>\n      <td>142.9</td>\n      <td>79</td>\n      <td>-105818465</td>\n    </tr>\n  </tbody>\n</table>\n</div>"
     },
     "metadata": {},
     "execution_count": 16
    }
   ],
   "source": [
    "df"
   ]
  },
  {
   "cell_type": "code",
   "execution_count": 19,
   "metadata": {},
   "outputs": [],
   "source": [
    "def fetch_bom_weather_data_complete(ncc_obs_code, station_code):\n",
    "    logger.debug(f\"Passed parameter ncc_obs_code {ncc_obs_code}\")\n",
    "    var = resolve_ncc_obs_code(ncc_obs_code)\n",
    "    logger.debug(f\"Resolved ncc_obs_code as variable {var}\")\n",
    "    c_table = fetch_bom_c_values(var[\"ncc_obs_code\"], station_code, radius_km=0)\n",
    "    p_c = c_table.c.iloc[0]\n",
    "    url = (\n",
    "        f\"http://www.bom.gov.au/jsp/ncc/cdio/weatherData/av?\"\n",
    "        f\"p_display_type={var['interval']}ZippedDataFile&\"\n",
    "        f\"p_stn_num={station_code:06.0f}&p_nccObsCode={var['ncc_obs_code']:.0f}\"\n",
    "        f\"&p_c={p_c:.0f}\"\n",
    "    )\n",
    "    r = requests.get(url)\n",
    "    buffer = io.BytesIO(r.content)\n",
    "    "
   ]
  },
  {
   "cell_type": "code",
   "execution_count": 20,
   "metadata": {},
   "outputs": [
    {
     "output_type": "stream",
     "name": "stderr",
     "text": "DEBUG:<ipython-input-19-d909c9215d3d>.fetch_bom_weather_data:2:Passed parameter ncc_obs_code monthly_rain\nDEBUG:<ipython-input-19-d909c9215d3d>.fetch_bom_weather_data:4:Resolved ncc_obs_code as variable {'name': 'Rainfall - monthly total', 'ncc_obs_code': 139, 'interval': 'monthly', 'aliases': ['monthly_rain']}\nDEBUG:bom.fetch_bom_c_values:101:Using resolved ncc_obs_code 139\nDEBUG:connectionpool._new_conn:225:Starting new HTTP connection (1): www.bom.gov.au:80\nDEBUG:connectionpool._make_request:437:http://www.bom.gov.au:80 \"GET /jsp/ncc/cdio/weatherStationDirectory/d?p_display_type=ajaxStnListing&p_nccObsCode=139&p_stnNum=23000&p_radius=0 HTTP/1.1\" 200 813\nDEBUG:connectionpool._new_conn:225:Starting new HTTP connection (1): www.bom.gov.au:80\nDEBUG:connectionpool._make_request:437:http://www.bom.gov.au:80 \"GET /jsp/ncc/cdio/weatherData/av?p_display_type=monthlyZippedDataFile&p_stn_num=023000&p_nccObsCode=139&p_c=-105819125 HTTP/1.1\" 200 15751\n"
    }
   ],
   "source": [
    "x = fetch_bom_weather_data_complete(\"monthly_rain\", 23000)"
   ]
  },
  {
   "cell_type": "code",
   "execution_count": 28,
   "metadata": {},
   "outputs": [],
   "source": [
    "zfile = zipfile.ZipFile(x)\n",
    "filenames = zfile.namelist()\n",
    "data_filenames = [fn for fn in filenames if fn.contains(\"_Data\")]\n",
    "dfs = {\n",
    "    fn.split(\".\")[0]: pd.read_csv(zfile.open(fn), compression=\"zip\"\n",
    "}"
   ]
  },
  {
   "cell_type": "code",
   "execution_count": 29,
   "metadata": {},
   "outputs": [
    {
     "output_type": "execute_result",
     "data": {
      "text/plain": "['IDCJAC0001_023000_Data1.csv',\n 'IDCJAC0001_023000_Data12.csv',\n 'IDCJAC0001_023000_Note.txt']"
     },
     "metadata": {},
     "execution_count": 29
    }
   ],
   "source": [
    "zfile.namelist()"
   ]
  },
  {
   "cell_type": "code",
   "execution_count": 35,
   "metadata": {
    "tags": [
     "outputPrepend"
    ]
   },
   "outputs": [
    {
     "output_type": "stream",
     "name": "stdout",
     "text": "Product code,Station number,Year,Month,Monthly Precipitation Total (millimetres),Quality\nIDCJAC0001,023000,1839,01,11.5,Y\nIDCJAC0001,023000,1839,02,11.4,Y\nIDCJAC0001,023000,1839,03,20.8,Y\nIDCJAC0001,023000,1839,04,10.5,Y\nIDCJAC0001,023000,1839,05,4.8,Y\n"
    }
   ],
   "source": [
    "for i, line in enumerate(zfile.read('IDCJAC0001_023000_Data1.csv').decode(\"ascii\").splitlines()):\n",
    "    print(line)\n",
    "    if i == 5:\n",
    "        break"
   ]
  },
  {
   "cell_type": "code",
   "execution_count": null,
   "metadata": {},
   "outputs": [],
   "source": []
  }
 ]
}