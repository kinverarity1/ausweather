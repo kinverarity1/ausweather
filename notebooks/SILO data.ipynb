{
 "cells": [
  {
   "cell_type": "code",
   "execution_count": 1,
   "metadata": {},
   "outputs": [],
   "source": [
    "import io\n",
    "\n",
    "import matplotlib.pyplot as plt\n",
    "from matplotlib import lines as mlines\n",
    "import pandas as pd\n",
    "import requests\n",
    "import numpy as np\n",
    "from scipy import stats\n",
    "\n",
    "import ausweather"
   ]
  },
  {
   "cell_type": "code",
   "execution_count": 2,
   "metadata": {},
   "outputs": [],
   "source": [
    "%matplotlib inline\n",
    "plt.rcParams[\"figure.dpi\"] = 150"
   ]
  },
  {
   "cell_type": "code",
   "execution_count": 3,
   "metadata": {},
   "outputs": [],
   "source": [
    "df = ausweather.silo_alldata(23300, 'kent.inverarity@sa.gov.au', start=19700101)"
   ]
  },
  {
   "cell_type": "code",
   "execution_count": 6,
   "metadata": {},
   "outputs": [
    {
     "output_type": "execute_result",
     "data": {
      "text/plain": "        Date  Day      Date2  T.Max  Smx  T.Min  Smn  Rain  Srn  Evap  ...  \\\n1 1970-01-01    1  1-01-1970   17.0   25    8.0   25  24.6    0   3.6  ...   \n2 1970-01-02    2  2-01-1970   18.5   25   10.5   25   2.5    0   5.4  ...   \n3 1970-01-03    3  3-01-1970   17.5   25   10.5   25   0.0    0   3.2  ...   \n4 1970-01-04    4  4-01-1970   19.5   25   11.5   25   1.3    0   2.8  ...   \n5 1970-01-05    5  5-01-1970   22.5   25   11.0   25   0.0    0   4.4  ...   \n\n  Mlake  Mpot  Mact  Mwet  Span  Ssp  EvSp  Ses  MSLPres  Sp  \n1   3.6   3.5   3.5   3.5   4.2   26   3.6   25   1006.0  25  \n2   4.4   5.2   3.3   4.3   5.4   26   5.4   25   1011.0  25  \n3   2.5   3.6   1.3   2.5   3.6   26   3.2   25   1009.0  25  \n4   2.8   3.2   2.4   2.8   3.5   26   2.8   25   1011.5  25  \n5   4.5   5.0   3.7   4.3   5.4   26   4.4   25   1015.0  25  \n\n[5 rows x 28 columns]",
      "text/html": "<div>\n<style scoped>\n    .dataframe tbody tr th:only-of-type {\n        vertical-align: middle;\n    }\n\n    .dataframe tbody tr th {\n        vertical-align: top;\n    }\n\n    .dataframe thead th {\n        text-align: right;\n    }\n</style>\n<table border=\"1\" class=\"dataframe\">\n  <thead>\n    <tr style=\"text-align: right;\">\n      <th></th>\n      <th>Date</th>\n      <th>Day</th>\n      <th>Date2</th>\n      <th>T.Max</th>\n      <th>Smx</th>\n      <th>T.Min</th>\n      <th>Smn</th>\n      <th>Rain</th>\n      <th>Srn</th>\n      <th>Evap</th>\n      <th>...</th>\n      <th>Mlake</th>\n      <th>Mpot</th>\n      <th>Mact</th>\n      <th>Mwet</th>\n      <th>Span</th>\n      <th>Ssp</th>\n      <th>EvSp</th>\n      <th>Ses</th>\n      <th>MSLPres</th>\n      <th>Sp</th>\n    </tr>\n  </thead>\n  <tbody>\n    <tr>\n      <th>1</th>\n      <td>1970-01-01</td>\n      <td>1</td>\n      <td>1-01-1970</td>\n      <td>17.0</td>\n      <td>25</td>\n      <td>8.0</td>\n      <td>25</td>\n      <td>24.6</td>\n      <td>0</td>\n      <td>3.6</td>\n      <td>...</td>\n      <td>3.6</td>\n      <td>3.5</td>\n      <td>3.5</td>\n      <td>3.5</td>\n      <td>4.2</td>\n      <td>26</td>\n      <td>3.6</td>\n      <td>25</td>\n      <td>1006.0</td>\n      <td>25</td>\n    </tr>\n    <tr>\n      <th>2</th>\n      <td>1970-01-02</td>\n      <td>2</td>\n      <td>2-01-1970</td>\n      <td>18.5</td>\n      <td>25</td>\n      <td>10.5</td>\n      <td>25</td>\n      <td>2.5</td>\n      <td>0</td>\n      <td>5.4</td>\n      <td>...</td>\n      <td>4.4</td>\n      <td>5.2</td>\n      <td>3.3</td>\n      <td>4.3</td>\n      <td>5.4</td>\n      <td>26</td>\n      <td>5.4</td>\n      <td>25</td>\n      <td>1011.0</td>\n      <td>25</td>\n    </tr>\n    <tr>\n      <th>3</th>\n      <td>1970-01-03</td>\n      <td>3</td>\n      <td>3-01-1970</td>\n      <td>17.5</td>\n      <td>25</td>\n      <td>10.5</td>\n      <td>25</td>\n      <td>0.0</td>\n      <td>0</td>\n      <td>3.2</td>\n      <td>...</td>\n      <td>2.5</td>\n      <td>3.6</td>\n      <td>1.3</td>\n      <td>2.5</td>\n      <td>3.6</td>\n      <td>26</td>\n      <td>3.2</td>\n      <td>25</td>\n      <td>1009.0</td>\n      <td>25</td>\n    </tr>\n    <tr>\n      <th>4</th>\n      <td>1970-01-04</td>\n      <td>4</td>\n      <td>4-01-1970</td>\n      <td>19.5</td>\n      <td>25</td>\n      <td>11.5</td>\n      <td>25</td>\n      <td>1.3</td>\n      <td>0</td>\n      <td>2.8</td>\n      <td>...</td>\n      <td>2.8</td>\n      <td>3.2</td>\n      <td>2.4</td>\n      <td>2.8</td>\n      <td>3.5</td>\n      <td>26</td>\n      <td>2.8</td>\n      <td>25</td>\n      <td>1011.5</td>\n      <td>25</td>\n    </tr>\n    <tr>\n      <th>5</th>\n      <td>1970-01-05</td>\n      <td>5</td>\n      <td>5-01-1970</td>\n      <td>22.5</td>\n      <td>25</td>\n      <td>11.0</td>\n      <td>25</td>\n      <td>0.0</td>\n      <td>0</td>\n      <td>4.4</td>\n      <td>...</td>\n      <td>4.5</td>\n      <td>5.0</td>\n      <td>3.7</td>\n      <td>4.3</td>\n      <td>5.4</td>\n      <td>26</td>\n      <td>4.4</td>\n      <td>25</td>\n      <td>1015.0</td>\n      <td>25</td>\n    </tr>\n  </tbody>\n</table>\n<p>5 rows × 28 columns</p>\n</div>"
     },
     "metadata": {},
     "execution_count": 6
    }
   ],
   "source": [
    "df.head()"
   ]
  },
  {
   "cell_type": "code",
   "execution_count": 7,
   "metadata": {},
   "outputs": [
    {
     "output_type": "stream",
     "name": "stdout",
     "text": "<class 'pandas.core.frame.DataFrame'>\nRangeIndex: 18372 entries, 1 to 18372\nData columns (total 28 columns):\nDate       18372 non-null datetime64[ns]\nDay        18372 non-null int32\nDate2      18372 non-null object\nT.Max      18372 non-null float64\nSmx        18372 non-null int32\nT.Min      18372 non-null float64\nSmn        18372 non-null int32\nRain       18372 non-null float64\nSrn        18372 non-null int32\nEvap       18372 non-null float64\nSev        18372 non-null object\nRadn       18372 non-null float64\nSsl        18372 non-null int32\nVP         18372 non-null float64\nSvp        18372 non-null int32\nRHmaxT     18372 non-null float64\nRHminT     18372 non-null float64\nFAO56      18372 non-null float64\nMlake      18372 non-null float64\nMpot       18372 non-null float64\nMact       18372 non-null float64\nMwet       18372 non-null float64\nSpan       18372 non-null float64\nSsp        18372 non-null int32\nEvSp       18372 non-null float64\nSes        18372 non-null int32\nMSLPres    18372 non-null float64\nSp         18372 non-null int32\ndtypes: datetime64[ns](1), float64(16), int32(9), object(2)\nmemory usage: 3.3+ MB\n"
    }
   ],
   "source": [
    "df.info()"
   ]
  },
  {
   "cell_type": "code",
   "execution_count": 10,
   "metadata": {},
   "outputs": [
    {
     "output_type": "execute_result",
     "data": {
      "text/plain": "Date\n1970    472.0\n1971    715.2\n1972    398.4\n1973    711.8\n1974    779.9\nName: Rain, dtype: float64"
     },
     "metadata": {},
     "execution_count": 10
    }
   ],
   "source": [
    "df.groupby(df.Date.dt.year).Rain.sum().head()"
   ]
  },
  {
   "cell_type": "code",
   "execution_count": null,
   "metadata": {},
   "outputs": [],
   "source": []
  }
 ],
 "metadata": {
  "kernelspec": {
   "display_name": "gw",
   "language": "python",
   "name": "gw"
  },
  "language_info": {
   "codemirror_mode": {
    "name": "ipython",
    "version": 3
   },
   "file_extension": ".py",
   "mimetype": "text/x-python",
   "name": "python",
   "nbconvert_exporter": "python",
   "pygments_lexer": "ipython3",
   "version": "3.7.3-final"
  }
 },
 "nbformat": 4,
 "nbformat_minor": 2
}