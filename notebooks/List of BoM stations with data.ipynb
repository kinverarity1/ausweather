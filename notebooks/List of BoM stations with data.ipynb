{
 "cells": [
  {
   "cell_type": "code",
   "execution_count": 1,
   "metadata": {},
   "outputs": [],
   "source": [
    "import ausweather"
   ]
  },
  {
   "cell_type": "code",
   "execution_count": 2,
   "metadata": {},
   "outputs": [],
   "source": [
    "import logging; logging.basicConfig(level=logging.INFO)"
   ]
  },
  {
   "cell_type": "code",
   "execution_count": 3,
   "metadata": {},
   "outputs": [],
   "source": [
    "db = ausweather.Database('test.sqlite')"
   ]
  },
  {
   "cell_type": "code",
   "execution_count": 4,
   "metadata": {},
   "outputs": [
    {
     "name": "stderr",
     "output_type": "stream",
     "text": [
      "INFO:ausweather.database:ncc_obs_codes=\"auto\" -> still missing: [136, 122]\n",
      "INFO:ausweather.bom:Fetching BoM station list for AUS obsCode 136\n",
      "INFO:ausweather.bom:Fetching BoM station list for AUS obsCode 122\n"
     ]
    }
   ],
   "source": [
    "df = db.fetch_bom_station_lists()"
   ]
  },
  {
   "cell_type": "markdown",
   "metadata": {},
   "source": [
    "Now note that it will not download these lists again:"
   ]
  },
  {
   "cell_type": "code",
   "execution_count": 5,
   "metadata": {},
   "outputs": [
    {
     "name": "stderr",
     "output_type": "stream",
     "text": [
      "INFO:ausweather.database:ncc_obs_codes=\"auto\" -> still missing: []\n"
     ]
    }
   ],
   "source": [
    "df = db.fetch_bom_station_lists()"
   ]
  },
  {
   "cell_type": "code",
   "execution_count": 6,
   "metadata": {},
   "outputs": [
    {
     "data": {
      "text/html": [
       "<div>\n",
       "<style scoped>\n",
       "    .dataframe tbody tr th:only-of-type {\n",
       "        vertical-align: middle;\n",
       "    }\n",
       "\n",
       "    .dataframe tbody tr th {\n",
       "        vertical-align: top;\n",
       "    }\n",
       "\n",
       "    .dataframe thead th {\n",
       "        text-align: right;\n",
       "    }\n",
       "</style>\n",
       "<table border=\"1\" class=\"dataframe\">\n",
       "  <thead>\n",
       "    <tr style=\"text-align: right;\">\n",
       "      <th></th>\n",
       "      <th>Site</th>\n",
       "      <th>Name</th>\n",
       "      <th>Lat</th>\n",
       "      <th>Lon</th>\n",
       "      <th>Start</th>\n",
       "      <th>End</th>\n",
       "      <th>Years</th>\n",
       "      <th>%</th>\n",
       "      <th>AWS</th>\n",
       "      <th>ncc_obs_code</th>\n",
       "      <th>ncc_obs_descr</th>\n",
       "    </tr>\n",
       "  </thead>\n",
       "  <tbody>\n",
       "    <tr>\n",
       "      <th>0</th>\n",
       "      <td>41497</td>\n",
       "      <td>AAC DALBY CAMPUS</td>\n",
       "      <td>-27.1494</td>\n",
       "      <td>151.2894</td>\n",
       "      <td>1985-08-01 00:00:00</td>\n",
       "      <td>2012-09-01 00:00:00</td>\n",
       "      <td>26.8</td>\n",
       "      <td>96</td>\n",
       "      <td>N</td>\n",
       "      <td>136</td>\n",
       "      <td>Daily total rainfall</td>\n",
       "    </tr>\n",
       "    <tr>\n",
       "      <th>1</th>\n",
       "      <td>33259</td>\n",
       "      <td>ABBOT POINT BULKCOAL</td>\n",
       "      <td>-19.8833</td>\n",
       "      <td>148.0750</td>\n",
       "      <td>1991-01-01 00:00:00</td>\n",
       "      <td>1991-06-01 00:00:00</td>\n",
       "      <td>0.5</td>\n",
       "      <td>100</td>\n",
       "      <td>N</td>\n",
       "      <td>136</td>\n",
       "      <td>Daily total rainfall</td>\n",
       "    </tr>\n",
       "    <tr>\n",
       "      <th>2</th>\n",
       "      <td>67114</td>\n",
       "      <td>ABBOTSBURY (FAIRFIELD (CITY FARM))</td>\n",
       "      <td>-33.8667</td>\n",
       "      <td>150.8611</td>\n",
       "      <td>2000-12-01 00:00:00</td>\n",
       "      <td>2020-02-01 00:00:00</td>\n",
       "      <td>18.8</td>\n",
       "      <td>95</td>\n",
       "      <td>N</td>\n",
       "      <td>136</td>\n",
       "      <td>Daily total rainfall</td>\n",
       "    </tr>\n",
       "    <tr>\n",
       "      <th>3</th>\n",
       "      <td>40000</td>\n",
       "      <td>ABBOTSFORD</td>\n",
       "      <td>-27.9500</td>\n",
       "      <td>153.1000</td>\n",
       "      <td>1909-10-01 00:00:00</td>\n",
       "      <td>1974-07-01 00:00:00</td>\n",
       "      <td>64.3</td>\n",
       "      <td>99</td>\n",
       "      <td>N</td>\n",
       "      <td>136</td>\n",
       "      <td>Daily total rainfall</td>\n",
       "    </tr>\n",
       "    <tr>\n",
       "      <th>4</th>\n",
       "      <td>86307</td>\n",
       "      <td>ABBOTSFORD</td>\n",
       "      <td>-37.8000</td>\n",
       "      <td>145.0000</td>\n",
       "      <td>1972-05-01 00:00:00</td>\n",
       "      <td>1972-09-01 00:00:00</td>\n",
       "      <td>0.4</td>\n",
       "      <td>99</td>\n",
       "      <td>N</td>\n",
       "      <td>136</td>\n",
       "      <td>Daily total rainfall</td>\n",
       "    </tr>\n",
       "  </tbody>\n",
       "</table>\n",
       "</div>"
      ],
      "text/plain": [
       "    Site                                Name      Lat       Lon  \\\n",
       "0  41497                    AAC DALBY CAMPUS -27.1494  151.2894   \n",
       "1  33259                ABBOT POINT BULKCOAL -19.8833  148.0750   \n",
       "2  67114  ABBOTSBURY (FAIRFIELD (CITY FARM)) -33.8667  150.8611   \n",
       "3  40000                          ABBOTSFORD -27.9500  153.1000   \n",
       "4  86307                          ABBOTSFORD -37.8000  145.0000   \n",
       "\n",
       "                 Start                  End  Years    % AWS  ncc_obs_code  \\\n",
       "0  1985-08-01 00:00:00  2012-09-01 00:00:00   26.8   96   N           136   \n",
       "1  1991-01-01 00:00:00  1991-06-01 00:00:00    0.5  100   N           136   \n",
       "2  2000-12-01 00:00:00  2020-02-01 00:00:00   18.8   95   N           136   \n",
       "3  1909-10-01 00:00:00  1974-07-01 00:00:00   64.3   99   N           136   \n",
       "4  1972-05-01 00:00:00  1972-09-01 00:00:00    0.4   99   N           136   \n",
       "\n",
       "          ncc_obs_descr  \n",
       "0  Daily total rainfall  \n",
       "1  Daily total rainfall  \n",
       "2  Daily total rainfall  \n",
       "3  Daily total rainfall  \n",
       "4  Daily total rainfall  "
      ]
     },
     "execution_count": 6,
     "metadata": {},
     "output_type": "execute_result"
    }
   ],
   "source": [
    "df.head()"
   ]
  },
  {
   "cell_type": "markdown",
   "metadata": {},
   "source": [
    "Let's plot rainfall stations locations"
   ]
  },
  {
   "cell_type": "code",
   "execution_count": 16,
   "metadata": {},
   "outputs": [],
   "source": [
    "import pandas as pd\n",
    "%matplotlib inline"
   ]
  },
  {
   "cell_type": "code",
   "execution_count": 25,
   "metadata": {},
   "outputs": [
    {
     "data": {
      "text/plain": [
       "<matplotlib.axes._subplots.AxesSubplot at 0x274da6294c8>"
      ]
     },
     "execution_count": 25,
     "metadata": {},
     "output_type": "execute_result"
    },
    {
     "data": {
      "image/png": "[encoded data removed]",
      "text/plain": [
       "<Figure size 432x288 with 1 Axes>"
      ]
     },
     "metadata": {
      "needs_background": "light"
     },
     "output_type": "display_data"
    }
   ],
   "source": [
    "fig, ax = plt.subplots()\n",
    "df[(pd.to_datetime(df.End) <= pd.Timestamp('1900')) & (df.ncc_obs_code == 136)].plot.scatter(\n",
    "    x='Lon', y='Lat', label='closed pre 1890', ax=ax)\n",
    "df[(pd.to_datetime(df.Start) >= pd.Timestamp('2015')) & (df.ncc_obs_code == 136)].plot.scatter(\n",
    "    x='Lon', y='Lat', label='opened post 2010', color='r', ax=ax)"
   ]
  },
  {
   "cell_type": "code",
   "execution_count": 6,
   "metadata": {},
   "outputs": [],
   "source": [
    "import os\n",
    "\n",
    "db.close()\n",
    "os.remove(db.filename)"
   ]
  },
  {
   "cell_type": "code",
   "execution_count": null,
   "metadata": {},
   "outputs": [],
   "source": []
  }
 ],
 "metadata": {
  "kernelspec": {
   "display_name": "dev",
   "language": "python",
   "name": "dev"
  },
  "language_info": {
   "codemirror_mode": {
    "name": "ipython",
    "version": 3
   },
   "file_extension": ".py",
   "mimetype": "text/x-python",
   "name": "python",
   "nbconvert_exporter": "python",
   "pygments_lexer": "ipython3",
   "version": "3.7.5"
  }
 },
 "nbformat": 4,
 "nbformat_minor": 2
}
